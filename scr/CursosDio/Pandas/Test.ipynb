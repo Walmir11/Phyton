{
 "cells": [
  {
   "cell_type": "code",
   "execution_count": 23,
   "metadata": {},
   "outputs": [
    {
     "data": {
      "text/plain": [
       "continent\n",
       "Africa      51\n",
       "Americas    25\n",
       "Asia        41\n",
       "Europe      35\n",
       "FSU          6\n",
       "Oceania      3\n",
       "Name: country, dtype: int64"
      ]
     },
     "execution_count": 23,
     "metadata": {},
     "output_type": "execute_result"
    }
   ],
   "source": [
    "import pandas as pd\n",
    "\n",
    "df = pd.read_csv('datasets\\Gapminder.csv', sep=\";\") \n",
    "\n",
    "df.head(10)\n",
    "\n",
    "df.rename(columns={'country':'Pais','lifeExp':'Expectativa de vida','continent':'continente'})\n",
    "#número de linhas e colunas\n",
    "df.shape\n",
    "#Colunas\n",
    "df.columns\n",
    "#tipos de cada coluna\n",
    "df.dtypes\n",
    "#ultimos\n",
    "df.tail(5)\n",
    "\n",
    "#localizar todos os paises da oceania\n",
    "Oceania = df.loc[df[\"country\"] == \"Australia\"]\n",
    "Oceania.head()\n",
    "\n",
    "df[\"continent\"].unique()\n",
    "\n",
    "df.groupby(\"continent\")[\"country\"].nunique()\n",
    "\n"
   ]
  }
 ],
 "metadata": {
  "kernelspec": {
   "display_name": "Python 3",
   "language": "python",
   "name": "python3"
  },
  "language_info": {
   "codemirror_mode": {
    "name": "ipython",
    "version": 3
   },
   "file_extension": ".py",
   "mimetype": "text/x-python",
   "name": "python",
   "nbconvert_exporter": "python",
   "pygments_lexer": "ipython3",
   "version": "3.11.5"
  }
 },
 "nbformat": 4,
 "nbformat_minor": 2
}

{
 "cells": [
  {
   "cell_type": "code",
   "execution_count": 11,
   "metadata": {},
   "outputs": [
    {
     "data": {
      "text/plain": [
       "Cidade    0\n",
       "Data      0\n",
       "Vendas    0\n",
       "LojaID    0\n",
       "Qtde      0\n",
       "dtype: int64"
      ]
     },
     "execution_count": 11,
     "metadata": {},
     "output_type": "execute_result"
    }
   ],
   "source": [
    "import pandas as pd\n",
    "\n",
    "#Leitura dos arquivos\n",
    "df1 = pd.read_excel('datasets\\Aracaju.xlsx')\n",
    "df2 = pd.read_excel('datasets\\Fortaleza.xlsx')\n",
    "df3 = pd.read_excel('datasets\\\\Natal.xlsx')\n",
    "df4 = pd.read_excel('datasets\\Recife.xlsx')\n",
    "df5 = pd.read_excel('datasets\\Salvador.xlsx')\n",
    "#juntando os arquivos\n",
    "df = pd.concat([df1,df2,df3,df4,df5])\n",
    "#lendo os primeiros arquivos\n",
    "df.head(11)\n",
    "#Lendo os ultimos arquivos\n",
    "df.tail(11)\n",
    "#Lendo amostras aleatórias \n",
    "df.sample(11)\n",
    "#Verificando tipo de dado de cada coluna\n",
    "df.dtypes\n",
    "#Alterando o tipo de dado da columa LojaID\n",
    "df['LojaID'] = df['LojaID'].astype('object')\n",
    "#Linhas nulas\n",
    "df.isnull().sum()\n",
    "#Trocando os valores nulos pela média de vendas\n",
    "df['Vendas'].fillna(df['Vendas'].mean(), inplace=True)#inplace: salva na memória\n",
    "df.isnull().sum()\n",
    "#Substituindo valores nulos por 0\n",
    "df['Vendas'].fillna(0, inplace=True)\n",
    "#Apagando linhas com valores nulos\n",
    "df.dropna(inplace=True)\n",
    "#Apagando linhas com valores nulos de uma coluna em especifico\n",
    "df.dropna(subset=['Vendas'], inplace=True)\n",
    "#Removendo linhas que estejam com valores faltantes em todas as colunas\n",
    "df.dropna(how='all', inplace=True)#pode ser uma coluna em especifico trocando o 'all' pelo nome da coluna\n"
   ]
  }
 ],
 "metadata": {
  "kernelspec": {
   "display_name": "Python 3",
   "language": "python",
   "name": "python3"
  },
  "language_info": {
   "codemirror_mode": {
    "name": "ipython",
    "version": 3
   },
   "file_extension": ".py",
   "mimetype": "text/x-python",
   "name": "python",
   "nbconvert_exporter": "python",
   "pygments_lexer": "ipython3",
   "version": "3.11.5"
  }
 },
 "nbformat": 4,
 "nbformat_minor": 2
}

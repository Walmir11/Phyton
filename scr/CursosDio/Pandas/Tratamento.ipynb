{
 "cells": [
  {
   "cell_type": "code",
   "execution_count": 10,
   "metadata": {},
   "outputs": [
    {
     "ename": "SyntaxError",
     "evalue": "(unicode error) 'unicodeescape' codec can't decode bytes in position 8-9: malformed \\N character escape (2142701909.py, line 6)",
     "output_type": "error",
     "traceback": [
      "\u001b[1;36m  Cell \u001b[1;32mIn[10], line 6\u001b[1;36m\u001b[0m\n\u001b[1;33m    df3 = pd.read_excel('datasets\\Natal.xlsx')\u001b[0m\n\u001b[1;37m                                             ^\u001b[0m\n\u001b[1;31mSyntaxError\u001b[0m\u001b[1;31m:\u001b[0m (unicode error) 'unicodeescape' codec can't decode bytes in position 8-9: malformed \\N character escape\n"
     ]
    }
   ],
   "source": [
    "import pandas as pd\n",
    "\n",
    "#Leitura dos arquivos\n",
    "df1 = pd.read_excel('datasets\\Aracaju.xlsx')\n",
    "df2 = pd.read_excel('datasets\\Fortaleza.xlsx')\n",
    "df3 = pd.read_excel('datasets\\Natal.xlsx') #problema\n",
    "df4 = pd.read_excel('datasets\\Recife.xlsx')\n",
    "df5 = pd.read_excel('datasets\\Salvador.xlsx')"
   ]
  }
 ],
 "metadata": {
  "kernelspec": {
   "display_name": "Python 3",
   "language": "python",
   "name": "python3"
  },
  "language_info": {
   "codemirror_mode": {
    "name": "ipython",
    "version": 3
   },
   "file_extension": ".py",
   "mimetype": "text/x-python",
   "name": "python",
   "nbconvert_exporter": "python",
   "pygments_lexer": "ipython3",
   "version": "3.11.5"
  }
 },
 "nbformat": 4,
 "nbformat_minor": 2
}

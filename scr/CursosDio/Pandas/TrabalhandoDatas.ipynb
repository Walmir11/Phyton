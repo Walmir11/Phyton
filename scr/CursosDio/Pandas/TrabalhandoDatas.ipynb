{
 "cells": [
  {
   "cell_type": "code",
   "execution_count": 2,
   "metadata": {},
   "outputs": [
    {
     "data": {
      "text/plain": [
       "Cidade            object\n",
       "Data      datetime64[ns]\n",
       "Vendas           float64\n",
       "LojaID             int64\n",
       "Qtde               int64\n",
       "dtype: object"
      ]
     },
     "execution_count": 2,
     "metadata": {},
     "output_type": "execute_result"
    }
   ],
   "source": [
    "import pandas as pd\n",
    "\n",
    "#Leitura dos arquivos\n",
    "df1 = pd.read_excel('datasets\\Aracaju.xlsx')\n",
    "df2 = pd.read_excel('datasets\\Fortaleza.xlsx')\n",
    "df3 = pd.read_excel('datasets\\\\Natal.xlsx')\n",
    "df4 = pd.read_excel('datasets\\Recife.xlsx')\n",
    "df5 = pd.read_excel('datasets\\Salvador.xlsx')\n",
    "\n",
    "df = pd.concat([df1,df2,df3,df4,df5])\n",
    "#Transformando a coluna de data em tipo inteiro\n",
    "df['Data'] = df['Data'].astype('int64')\n",
    "#Transformando a coluna data para tipo data\n",
    "df['Data'] = pd.to_datetime(df['Data'])\n",
    "#Agrupando por ano\n",
    "df.groupby(df['Data'].dt.year)['Receita'].sum()"
   ]
  }
 ],
 "metadata": {
  "kernelspec": {
   "display_name": "Python 3",
   "language": "python",
   "name": "python3"
  },
  "language_info": {
   "codemirror_mode": {
    "name": "ipython",
    "version": 3
   },
   "file_extension": ".py",
   "mimetype": "text/x-python",
   "name": "python",
   "nbconvert_exporter": "python",
   "pygments_lexer": "ipython3",
   "version": "3.11.5"
  }
 },
 "nbformat": 4,
 "nbformat_minor": 2
}
